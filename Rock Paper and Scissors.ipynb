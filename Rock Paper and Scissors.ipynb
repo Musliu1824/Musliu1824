{
 "cells": [
  {
   "cell_type": "markdown",
   "metadata": {},
   "source": [
    "### Rock paper sciccors"
   ]
  },
  {
   "cell_type": "code",
   "execution_count": null,
   "metadata": {},
   "outputs": [
    {
     "name": "stdout",
     "output_type": "stream",
     "text": [
      "*****WELCOME TO ROCK, PAPER AND SCICCORS GAME**** \n",
      " \n",
      "  hands = ['rock', 'siccors', 'paper'] \n",
      "\n",
      "<------This Game is Created by McCain----->\n",
      "player1 Enter your guess : \n",
      "········\n",
      "player2 Enter your guess : \n",
      "········\n",
      "opps!! you have enter a wrong guess not in the hand\n",
      "you have 2 guess left\n",
      "player1 Enter your guess : \n",
      "········\n",
      "player2 Enter your guess : \n",
      "········\n",
      "Player2 wins the game\n",
      "you have 1 guess left\n"
     ]
    }
   ],
   "source": [
    "import time\n",
    "import getpass\n",
    "#Rock Paper\n",
    "print(\"*****WELCOME TO ROCK, PAPER AND SCICCORS GAME**** \\n \\n  hands = ['rock', 'siccors', 'paper'] \\n\")\n",
    "\n",
    "time.sleep(2)\n",
    "\n",
    "print(  '<------This Game is Created by McCain----->'   )\n",
    "\n",
    "trial = 0\n",
    "counter = 3\n",
    "while trial < 3:\n",
    "    \n",
    "    \n",
    "    player1 = getpass.getpass('player1 Enter your guess : \\n')\n",
    "    \n",
    "    player2 = getpass.getpass('player2 Enter your guess : \\n')\n",
    "    \n",
    "    if player1 == 'rock' and player2 == 'sciccors':\n",
    "        \n",
    "        print('Player1 wins the game')\n",
    "        \n",
    "    elif player1 == 'rock' and player2 == 'paper':\n",
    "        \n",
    "        print('player2 wins')\n",
    "        \n",
    "        \n",
    "    elif player1 == 'sciccors' and player2 == 'paper':\n",
    "        \n",
    "        print('Player1 wins the game')\n",
    "        \n",
    "    elif player1 == 'sciccors' and player2 == 'rock':\n",
    "        \n",
    "        print('Player2 wins the game')\n",
    "        \n",
    "    elif player1 == 'paper' and player2 == 'rock':\n",
    "        \n",
    "        print('Player1 wins the game')\n",
    "        \n",
    "    elif player1 == 'paper' and player2 == 'sciccors':\n",
    "        \n",
    "        print('Player2 wins the game')\n",
    "        \n",
    "    else:\n",
    "        print('opps!! you have enter a wrong guess not in the hand')\n",
    "        \n",
    "    trial +=1\n",
    "    counter -= 1\n",
    "    \n",
    "    print('you have',counter,'guess left' )\n",
    "print('****GAME OVER****')\n"
   ]
  },
  {
   "cell_type": "code",
   "execution_count": null,
   "metadata": {},
   "outputs": [],
   "source": [
    "rock"
   ]
  }
 ],
 "metadata": {
  "kernelspec": {
   "display_name": "Python 3",
   "language": "python",
   "name": "python3"
  },
  "language_info": {
   "codemirror_mode": {
    "name": "ipython",
    "version": 3
   },
   "file_extension": ".py",
   "mimetype": "text/x-python",
   "name": "python",
   "nbconvert_exporter": "python",
   "pygments_lexer": "ipython3",
   "version": "3.7.6"
  }
 },
 "nbformat": 4,
 "nbformat_minor": 4
}
