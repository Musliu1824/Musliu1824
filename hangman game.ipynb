{
 "cells": [
  {
   "cell_type": "markdown",
   "metadata": {},
   "source": [
    "### HANGMAN GAME"
   ]
  },
  {
   "cell_type": "code",
   "execution_count": 11,
   "metadata": {},
   "outputs": [
    {
     "name": "stdout",
     "output_type": "stream",
     "text": [
      " player1 enter your secret words : ········\n",
      " _ articular\n",
      " player 2 Enter your guess letter: p\n",
      " guess is correct :  PARTICULAR\n"
     ]
    }
   ],
   "source": [
    "import random\n",
    "import getpass\n",
    "\n",
    "def hangman():\n",
    "    \n",
    "    guess = 5\n",
    "    \n",
    "    counter = 0\n",
    "\n",
    "    player1_word = getpass.getpass(' player1 enter your secret words : ')\n",
    "    \n",
    "    player1_word = player1_word.lower()\n",
    "    \n",
    "    while counter < 5: \n",
    "        \n",
    "        guess -= 1\n",
    "        \n",
    "        counter +=1\n",
    "        \n",
    "        \n",
    "        random_word = random.choice(player1_word)\n",
    "        \n",
    "        h_word = player1_word.replace(random_word ,\" _ \")\n",
    "\n",
    "        \n",
    "        print(h_word)\n",
    "        \n",
    "        player2_guess = str(input(' player 2 Enter your guess letter: '))\n",
    "        \n",
    "         \n",
    "        \n",
    "        if random_word == player2_guess.lower():\n",
    "        \n",
    "            print(' guess is correct : ', player1_word.upper())\n",
    "            \n",
    "            break\n",
    "         \n",
    "        else:\n",
    "            print(' you have ' + \"  \" , guess,\" \" + 'left \\n ')\n",
    "            \n",
    "        \n",
    "        print()\n",
    "        \n",
    "        \n",
    "hangman()\n"
   ]
  },
  {
   "cell_type": "code",
   "execution_count": null,
   "metadata": {},
   "outputs": [],
   "source": []
  },
  {
   "cell_type": "code",
   "execution_count": null,
   "metadata": {},
   "outputs": [],
   "source": []
  },
  {
   "cell_type": "code",
   "execution_count": null,
   "metadata": {},
   "outputs": [],
   "source": []
  },
  {
   "cell_type": "code",
   "execution_count": null,
   "metadata": {},
   "outputs": [],
   "source": []
  },
  {
   "cell_type": "code",
   "execution_count": null,
   "metadata": {},
   "outputs": [],
   "source": []
  },
  {
   "cell_type": "code",
   "execution_count": null,
   "metadata": {},
   "outputs": [],
   "source": []
  },
  {
   "cell_type": "code",
   "execution_count": null,
   "metadata": {},
   "outputs": [],
   "source": []
  }
 ],
 "metadata": {
  "kernelspec": {
   "display_name": "Python 3",
   "language": "python",
   "name": "python3"
  },
  "language_info": {
   "codemirror_mode": {
    "name": "ipython",
    "version": 3
   },
   "file_extension": ".py",
   "mimetype": "text/x-python",
   "name": "python",
   "nbconvert_exporter": "python",
   "pygments_lexer": "ipython3",
   "version": "3.7.6"
  }
 },
 "nbformat": 4,
 "nbformat_minor": 4
}
