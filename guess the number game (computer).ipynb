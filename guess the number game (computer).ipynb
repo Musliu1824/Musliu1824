{
 "cells": [
  {
   "cell_type": "markdown",
   "metadata": {},
   "source": [
    "### Guess the number by computer"
   ]
  },
  {
   "cell_type": "code",
   "execution_count": null,
   "metadata": {},
   "outputs": [],
   "source": [
    "import random as rn\n",
    "\n",
    "import getpass\n",
    "\n",
    "counter = 0\n",
    "\n",
    "while counter < 3:\n",
    "    user_guess = getpass.getpass('Enter a secret number from 1-99 : ')\n",
    "\n",
    "    computer_guess = rn.randrange(100)\n",
    "    \n",
    "    if computer_guess == user_guess:\n",
    "\n",
    "        print('your guess is correct')\n",
    "\n",
    "    else:\n",
    "        print('opps!! try again user secret number is',user_guess)\n",
    "        \n",
    "        print('computer wrong guess is : ', computer_guess)\n",
    "        \n",
    "    counter +=1\n",
    "\n",
    "   "
   ]
  },
  {
   "cell_type": "code",
   "execution_count": null,
   "metadata": {},
   "outputs": [],
   "source": []
  }
 ],
 "metadata": {
  "kernelspec": {
   "display_name": "Python 3",
   "language": "python",
   "name": "python3"
  },
  "language_info": {
   "codemirror_mode": {
    "name": "ipython",
    "version": 3
   },
   "file_extension": ".py",
   "mimetype": "text/x-python",
   "name": "python",
   "nbconvert_exporter": "python",
   "pygments_lexer": "ipython3",
   "version": "3.7.6"
  }
 },
 "nbformat": 4,
 "nbformat_minor": 4
}
