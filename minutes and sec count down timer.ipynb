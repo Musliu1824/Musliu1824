{
 "cells": [
  {
   "cell_type": "code",
   "execution_count": null,
   "metadata": {},
   "outputs": [],
   "source": [
    "import time\n",
    "\n",
    "def countdown(tm):\n",
    "   \n",
    "    while tm:\n",
    "        m,s = divmod(tm, 60)\n",
    "        print('{:2d}m:{:2d}s'.format(m,s))\n",
    "        time.sleep(1)\n",
    "        tm -=1 \n",
    "        \n",
    "countdown(tm = int(input('Enter count down time : ')))\n",
    "print('time elapsed')   \n",
    "    \n"
   ]
  },
  {
   "cell_type": "code",
   "execution_count": null,
   "metadata": {},
   "outputs": [],
   "source": []
  }
 ],
 "metadata": {
  "kernelspec": {
   "display_name": "Python 3",
   "language": "python",
   "name": "python3"
  },
  "language_info": {
   "codemirror_mode": {
    "name": "ipython",
    "version": 3
   },
   "file_extension": ".py",
   "mimetype": "text/x-python",
   "name": "python",
   "nbconvert_exporter": "python",
   "pygments_lexer": "ipython3",
   "version": "3.7.6"
  }
 },
 "nbformat": 4,
 "nbformat_minor": 4
}
