{
 "cells": [
  {
   "cell_type": "code",
   "execution_count": null,
   "metadata": {},
   "outputs": [],
   "source": [
    "import random as rn\n",
    "\n",
    "print(\"Enter your guess num 1-100 : \")\n",
    "\n",
    "x = 0\n",
    "\n",
    "while x < 3:\n",
    "    \n",
    "    number = int(input('enter a guess number'))\n",
    "    \n",
    "    computer_guess = rn.randrange(100)\n",
    "    \n",
    "    if number == computer_guess:\n",
    "\n",
    "        print('bravo!! your guess is correct')\n",
    "\n",
    "    else:\n",
    "        print('opps!! try again computer secret number is', computer_guess )\n",
    "    \n",
    "    \n",
    "        x += 1"
   ]
  },
  {
   "cell_type": "code",
   "execution_count": null,
   "metadata": {},
   "outputs": [],
   "source": []
  },
  {
   "cell_type": "code",
   "execution_count": null,
   "metadata": {},
   "outputs": [],
   "source": []
  }
 ],
 "metadata": {
  "kernelspec": {
   "display_name": "Python 3",
   "language": "python",
   "name": "python3"
  },
  "language_info": {
   "codemirror_mode": {
    "name": "ipython",
    "version": 3
   },
   "file_extension": ".py",
   "mimetype": "text/x-python",
   "name": "python",
   "nbconvert_exporter": "python",
   "pygments_lexer": "ipython3",
   "version": "3.7.6"
  }
 },
 "nbformat": 4,
 "nbformat_minor": 4
}
