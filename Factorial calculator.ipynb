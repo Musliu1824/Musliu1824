{
 "cells": [
  {
   "cell_type": "markdown",
   "metadata": {},
   "source": [
    "### Factorial calculator"
   ]
  },
  {
   "cell_type": "code",
   "execution_count": 11,
   "metadata": {},
   "outputs": [
    {
     "name": "stdout",
     "output_type": "stream",
     "text": [
      "enter number : 4\n",
      "24\n"
     ]
    }
   ],
   "source": [
    "n_factorial = int(input('enter number : '))\n",
    "p=1\n",
    "\n",
    "for i in range(1,n_factorial+1):\n",
    "    if n_factorial < 0:\n",
    "        print(' no factorial of a negative number ')\n",
    "    elif n_factorial==0:\n",
    "        print(\" factorial of 0 is 1 \")\n",
    "    else:\n",
    "        p = p*i\n",
    "print(p)"
   ]
  },
  {
   "cell_type": "code",
   "execution_count": null,
   "metadata": {},
   "outputs": [],
   "source": []
  }
 ],
 "metadata": {
  "kernelspec": {
   "display_name": "Python 3",
   "language": "python",
   "name": "python3"
  },
  "language_info": {
   "codemirror_mode": {
    "name": "ipython",
    "version": 3
   },
   "file_extension": ".py",
   "mimetype": "text/x-python",
   "name": "python",
   "nbconvert_exporter": "python",
   "pygments_lexer": "ipython3",
   "version": "3.7.6"
  }
 },
 "nbformat": 4,
 "nbformat_minor": 4
}
